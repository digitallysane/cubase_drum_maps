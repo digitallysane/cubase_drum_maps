{
  "nbformat": 4,
  "nbformat_minor": 0,
  "metadata": {
    "colab": {
      "name": "Cubase Drum Maps.ipynb",
      "provenance": [],
      "collapsed_sections": [],
      "authorship_tag": "ABX9TyMXMalTG4wf4Reij7yr/hHR",
      "include_colab_link": true
    },
    "kernelspec": {
      "name": "python3",
      "display_name": "Python 3"
    },
    "language_info": {
      "name": "python"
    }
  },
  "cells": [
    {
      "cell_type": "markdown",
      "metadata": {
        "id": "view-in-github",
        "colab_type": "text"
      },
      "source": [
        "<a href=\"https://colab.research.google.com/github/mtrigoboff/cubase_drum_maps/blob/colab/Cubase_Drum_Maps.ipynb\" target=\"_parent\"><img src=\"https://colab.research.google.com/assets/colab-badge.svg\" alt=\"Open In Colab\"/></a>"
      ]
    },
    {
      "cell_type": "markdown",
      "source": [
        "#Cubase Drum Maps for Montage/MODX#\n",
        "_by [Michael Trigoboff](mailto:mtrigoboff@comcast.net)_\n",
        "\n",
        "This notebook is for creating Cubase **drum map files** from text copied from the Yamaha Montage/MODX **Data List** PDF.\n",
        "\n",
        "It would be nice to have Cubase show you the correct names when using a particular Montage/MODX drum kit, but you need a drum map file for that. The only other method Cubase provides is to type in all the names by hand. Given that there are 128 different names for most of the drum kits, that would be a pain.\n",
        "\n",
        "The **Data List** PDF has a **Drum Kit Assign List** that shows, for each drum kit, the name of the sound that each assigned note will produce. For example, the **NewMapleCustom Kit**, shows the name **HH Dark Pedal 1-2 St** for note **C0**.\n",
        "\n",
        "To get the files you need, click on the black circle with a white arrow that will appear when you hover your mouse over the cell (i.e. rectangle containing code) below this text."
      ],
      "metadata": {
        "id": "aNbugw0bxj-R"
      }
    },
    {
      "cell_type": "code",
      "source": [
        "! rm -rf sample_data\n",
        "! rm -rf cubase_drum_maps\n",
        "! git clone --branch colab --single-branch https://github.com/mtrigoboff/cubase_drum_maps\n",
        "! mv cubase_drum_maps/* .\n",
        "! rm Cubase_Drum_Maps.ipynb\n",
        "! rm -rf cubase_drum_maps"
      ],
      "metadata": {
        "id": "_eweU7mr2iAi"
      },
      "execution_count": null,
      "outputs": []
    },
    {
      "cell_type": "markdown",
      "source": [
        "To create a drum map file, you need a text file containing the information about that drum kit copied from the Data List.\n",
        "\n",
        "For example, the text file named **maple.txt** in this notebook contains the information for **NewMapleCustom Kit**. This text file was created by opening the Data List PDF to the page for **NewMapleCustom Kit** and then selecting in that column from **C0** down to and including the last item, **Djembe2 Slap**. The selected text was then copied and pasted into a blank text document.\n",
        "\n",
        "One line was added to the beginning of the text file to specify the name of the drum kit being created, **NewMapleCustom Kit**. (This first line can contain any name you want; the name will appear in Cubase as the name of that drum kit.)\n",
        "\n",
        "Save the text file with a filename that contains no spaces and ends in **.txt**. It doesn't matter what you name your text file as long as there are no spaces in the name and it is not named **maple.txt**.. There is no relationship between the filename and the drum kit name that will appear in Cubase.\n",
        "\n",
        "Once you have created the text file on your computer, click on the black circle with a white arrow in the cell below this text. Then click on the **Choose Files** button that appears and choose the text file that you created.\n",
        "\n",
        "Doing this will execute code to create a Cubase drum map file named **textfile.drm**, using the first part of the name of your text file (e.g. **maple.txt** results in **maple.drm**). Note that the name of the drum kit will be taken from the first line of the text file, _not_ from the name of the text file.\n",
        "\n",
        "You will be given the choice of where to download your new drum map file to your computer.\n",
        "\n",
        "Once you have created your drum map file, you just need to import it into Cubase as described in the Cubase documentation.\n"
      ],
      "metadata": {
        "id": "tVV7GvsSNL3B"
      }
    },
    {
      "cell_type": "code",
      "source": [
        "from google.colab import files\n",
        "from create_dm import createDrumMap\n",
        "\n",
        "uploads = files.upload()\n",
        "uploadedFileName = list(uploads.keys())[0]\n",
        "print(f'uploaded file: {uploadedFileName}')\n",
        "drumMapFileName = createDrumMap(uploadedFileName)\n",
        "files.download(drumMapFileName)"
      ],
      "metadata": {
        "id": "Bq6yddX0IDMT"
      },
      "execution_count": null,
      "outputs": []
    }
  ]
}