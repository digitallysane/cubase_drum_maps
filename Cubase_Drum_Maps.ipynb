{
  "nbformat": 4,
  "nbformat_minor": 0,
  "metadata": {
    "colab": {
      "name": "Cubase Drum Maps.ipynb",
      "provenance": [],
      "collapsed_sections": [
        "V6Vpc65rf2Tz"
      ],
      "authorship_tag": "ABX9TyO+nGTrEMwgfzu7HbLH5lTp",
      "include_colab_link": true
    },
    "kernelspec": {
      "name": "python3",
      "display_name": "Python 3"
    },
    "language_info": {
      "name": "python"
    }
  },
  "cells": [
    {
      "cell_type": "markdown",
      "metadata": {
        "id": "view-in-github",
        "colab_type": "text"
      },
      "source": [
        "<a href=\"https://colab.research.google.com/github/mtrigoboff/cubase_drum_maps/blob/colab/Cubase_Drum_Maps.ipynb\" target=\"_parent\"><img src=\"https://colab.research.google.com/assets/colab-badge.svg\" alt=\"Open In Colab\"/></a>"
      ]
    },
    {
      "cell_type": "markdown",
      "source": [
        "#Cubase Drum Maps#\n",
        "\n",
        "This notebook contains code you can use to create Cubase drum maps."
      ],
      "metadata": {
        "id": "aNbugw0bxj-R"
      }
    },
    {
      "cell_type": "code",
      "source": [
        "! rm -rf sample_data\n",
        "! rm -rf cubase_drum_maps\n",
        "! git clone --branch colab --single-branch https://github.com/mtrigoboff/cubase_drum_maps\n",
        "! mv cubase_drum_maps/* .\n",
        "! rm Cubase_Drum_Maps.ipynb\n",
        "! rm -rf cubase_drum_maps"
      ],
      "metadata": {
        "id": "_eweU7mr2iAi"
      },
      "execution_count": null,
      "outputs": []
    },
    {
      "cell_type": "code",
      "source": [
        "from google.colab import files\n",
        "from create_dm import createDrumMap\n",
        "\n",
        "uploads = files.upload()\n",
        "uploadedFileName = list(uploads.keys())[0]\n",
        "print(f'uploaded file: {uploadedFileName}')\n",
        "drumMapFileName = createDrumMap(uploadedFileName)\n",
        "files.download(drumMapFileName)"
      ],
      "metadata": {
        "id": "Bq6yddX0IDMT"
      },
      "execution_count": null,
      "outputs": []
    },
    {
      "cell_type": "markdown",
      "source": [
        "# create_dm.py\n",
        "\n",
        "_by [Michael Trigoboff](http://spot.pcc.edu/~mtrigobo)_\n",
        "\n",
        "* * *\n",
        "\n",
        "The **Montage Data List** PDF has a **Drum Kit Assign List** that shows, for each drum kit, the name of the sound that each assigned note will produce. For example, the first drum kit listed in the Data List for firmware version 1.5.0, **Schlager Weapon 1**, shows the name **Sd TB Comp1** for note **C0**.\n",
        "\n",
        "It would be nice to have Cubase show you the correct names when using a particular Montage drum kit, but the only method Cubase provides to do that is to type in all the names by hand. Given that there are 128 different names for most of the drum kits, that would be a real pain.\n",
        "\n",
        "This Colab Notebook lets you create a Cubase drum map for any of the Montage drum kits described in the Data List PDF.\n",
        "\n",
        "To do this, you need to create a text file containing the information about that drum kit from the Data List. Using **Schlager Weapon 1** as an example, open the Data List PDF to that page. Select from where it says **C0** down to and including the last item, **Electric Fx Perc9**. Copy the selected text, and paste it into a blank text document.\n",
        "\n",
        "Add one line to the beginning of the text file. This line will contain the name of the drum map you are creating. The name of the drum kit would be a good choice here, but it's entirely up to you.\n",
        "\n",
        "Save the text file with a name that contains no spaces. For **Schlager Weapon 1**, I used **SchlagerWeapon1.txt**.\n",
        "\n",
        "Now you need to run the Python code. To do this, you need to install a Python interpreter, which you can get from [here](https://www.python.org/downloads/). Just choose the most recent one.\n",
        "\n",
        "When you have the Python interpreter installed, open a command-line window such as Windows PowerShell. Navigate to the directory (i.e. folder) containing your text file, and run the Python code like this:\n",
        "\n",
        "> <pre>python create_dm.py yourtextfile.txt</pre>\n",
        "\n",
        "The Python code will create a Cubase drum map file named **yourtextfile.drm**. Note that the internal name of the drum map will be taken from the first line of the text file, _not_ from the name of the text file.\n",
        "\n",
        "Once you have created your drum map file, you just need to import it into Cubase as described in the Cubase documentation.\n",
        "\n",
        "_This was originally released on [yamahasynth.com](https://www.yamahasynth.com/ask-a-question/make-your-own-cubase-drum-maps)._\n"
      ],
      "metadata": {
        "id": "V6Vpc65rf2Tz"
      }
    }
  ]
}