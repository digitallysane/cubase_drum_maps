{
  "nbformat": 4,
  "nbformat_minor": 0,
  "metadata": {
    "colab": {
      "name": "Cubase Drum Maps.ipynb",
      "provenance": [],
      "collapsed_sections": [],
      "authorship_tag": "ABX9TyOsHOHKLnjictUCRzsr6hy/",
      "include_colab_link": true
    },
    "kernelspec": {
      "name": "python3",
      "display_name": "Python 3"
    },
    "language_info": {
      "name": "python"
    }
  },
  "cells": [
    {
      "cell_type": "markdown",
      "metadata": {
        "id": "view-in-github",
        "colab_type": "text"
      },
      "source": [
        "<a href=\"https://colab.research.google.com/github/mtrigoboff/cubase_drum_maps/blob/colab/Cubase_Drum_Maps.ipynb\" target=\"_parent\"><img src=\"https://colab.research.google.com/assets/colab-badge.svg\" alt=\"Open In Colab\"/></a>"
      ]
    },
    {
      "cell_type": "markdown",
      "source": [
        "#Cubase Drum Maps for Montage/MODX#\n",
        "\n",
        "This notebook is for creating Cubase **drum map files** from text copied from the Yamaha Montage/MODX **Data List** PDF.\n",
        "\n",
        "It would be nice to have Cubase show you the correct names when using a particular Montage/MODX drum kit, but you need a drum map file for that. The only other method Cubase provides is to type in all the names by hand. Given that there are 128 different names for most of the drum kits, that would be a pain.\n",
        "\n",
        "The **Data List** PDF has a **Drum Kit Assign List** that shows, for each drum kit, the name of the sound that each assigned note will produce. For example, the **NewMapleCustom Kit**, shows the name **HH Dark Pedal 1-2 St** for note **C0**.\n",
        "\n",
        "To create a drum map file, you need a text file containing the information about that drum kit from the Data List. Using **NewMapleCustom Kit** as an example, open the Data List PDF to that page. Select from where it says **C0** down to and including the last item, **Djembe2 Slap**. Copy the selected text, and paste it into a blank text document.\n",
        "\n",
        "Add one line to the beginning of the text file. This line will contain the name of the drum map you are creating. The name of the drum kit would be a good choice here, but it's entirely up to you.\n",
        "\n",
        "Save the text file with a name that contains no spaces and ends in **.txt**. The text file named **example.txt** in this notebook contains the information for **NewMapleCustom Kit**. It doesn't matter what you name the text file as long as there are no spaces in the name and it is not named **example.txt**.. There is no relationship between the text file name and the drum map name that will appear in Cubase.\n",
        "\n",
        "To start the process, click on the black circle with a white arrow that will appear when you hover your mouse over the cell (i.e. rectangle) below this text."
      ],
      "metadata": {
        "id": "aNbugw0bxj-R"
      }
    },
    {
      "cell_type": "code",
      "source": [
        "! rm -rf sample_data\n",
        "! rm -rf cubase_drum_maps\n",
        "! git clone --branch colab --single-branch https://github.com/mtrigoboff/cubase_drum_maps\n",
        "! mv cubase_drum_maps/* .\n",
        "! rm Cubase_Drum_Maps.ipynb\n",
        "! rm -rf cubase_drum_maps"
      ],
      "metadata": {
        "id": "_eweU7mr2iAi"
      },
      "execution_count": null,
      "outputs": []
    },
    {
      "cell_type": "markdown",
      "source": [
        "Now click on the black circle with a white arrow in the cell below this text. Then click on the **Choose File** button that appears and choose the text file that you created which contains the drum kit information that you copied from the Data List PDF.\n",
        "\n",
        "This will create a Cubase drum map file named **yourtextfile.drm**, assuming your text file was named **yourtextfile.txt**. Note that the internal name of the drum map will be taken from the first line of the text file, _not_ from the name of the text file. You will be given the choice of where to download your new drum map file to your computer.\n",
        "\n",
        "Once you have created your drum map file, you just need to import it into Cubase as described in the Cubase documentation.\n"
      ],
      "metadata": {
        "id": "tVV7GvsSNL3B"
      }
    },
    {
      "cell_type": "code",
      "source": [
        "from google.colab import files\n",
        "from create_dm import createDrumMap\n",
        "\n",
        "uploads = files.upload()\n",
        "uploadedFileName = list(uploads.keys())[0]\n",
        "print(f'uploaded file: {uploadedFileName}')\n",
        "drumMapFileName = createDrumMap(uploadedFileName)\n",
        "files.download(drumMapFileName)"
      ],
      "metadata": {
        "id": "Bq6yddX0IDMT"
      },
      "execution_count": null,
      "outputs": []
    }
  ]
}